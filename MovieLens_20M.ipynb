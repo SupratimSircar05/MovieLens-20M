{
  "nbformat": 4,
  "nbformat_minor": 0,
  "metadata": {
    "colab": {
      "name": "MovieLens 20M.ipynb",
      "provenance": [],
      "collapsed_sections": [],
      "authorship_tag": "ABX9TyN93fR6TOF7mwu2EdGD42ZM",
      "include_colab_link": true
    },
    "kernelspec": {
      "name": "python3",
      "display_name": "Python 3"
    },
    "accelerator": "GPU"
  },
  "cells": [
    {
      "cell_type": "markdown",
      "metadata": {
        "id": "view-in-github",
        "colab_type": "text"
      },
      "source": [
        "<a href=\"https://colab.research.google.com/github/SupratimSircar05/MovieLens-20M/blob/master/MovieLens_20M.ipynb\" target=\"_parent\"><img src=\"https://colab.research.google.com/assets/colab-badge.svg\" alt=\"Open In Colab\"/></a>"
      ]
    },
    {
      "cell_type": "code",
      "metadata": {
        "id": "wkk2smAThgYW",
        "colab_type": "code",
        "colab": {
          "base_uri": "https://localhost:8080/",
          "height": 208
        },
        "outputId": "5797dc88-867f-4acd-a61e-e62522898c53"
      },
      "source": [
        "!wget http://files.grouplens.org/datasets/movielens/ml-20m.zip"
      ],
      "execution_count": 1,
      "outputs": [
        {
          "output_type": "stream",
          "text": [
            "--2020-03-12 11:57:08--  http://files.grouplens.org/datasets/movielens/ml-20m.zip\n",
            "Resolving files.grouplens.org (files.grouplens.org)... 128.101.65.152\n",
            "Connecting to files.grouplens.org (files.grouplens.org)|128.101.65.152|:80... connected.\n",
            "HTTP request sent, awaiting response... 200 OK\n",
            "Length: 198702078 (189M) [application/zip]\n",
            "Saving to: ‘ml-20m.zip’\n",
            "\n",
            "ml-20m.zip          100%[===================>] 189.50M  27.4MB/s    in 7.6s    \n",
            "\n",
            "2020-03-12 11:57:16 (24.9 MB/s) - ‘ml-20m.zip’ saved [198702078/198702078]\n",
            "\n"
          ],
          "name": "stdout"
        }
      ]
    },
    {
      "cell_type": "code",
      "metadata": {
        "id": "N2hJdCO1iLAw",
        "colab_type": "code",
        "colab": {
          "base_uri": "https://localhost:8080/",
          "height": 173
        },
        "outputId": "88eea782-3d3a-41ec-ca98-aa0aaf98dfeb"
      },
      "source": [
        "!unzip ml-20m.zip"
      ],
      "execution_count": 2,
      "outputs": [
        {
          "output_type": "stream",
          "text": [
            "Archive:  ml-20m.zip\n",
            "   creating: ml-20m/\n",
            "  inflating: ml-20m/genome-scores.csv  \n",
            "  inflating: ml-20m/genome-tags.csv  \n",
            "  inflating: ml-20m/links.csv        \n",
            "  inflating: ml-20m/movies.csv       \n",
            "  inflating: ml-20m/ratings.csv      \n",
            "  inflating: ml-20m/README.txt       \n",
            "  inflating: ml-20m/tags.csv         \n"
          ],
          "name": "stdout"
        }
      ]
    },
    {
      "cell_type": "code",
      "metadata": {
        "id": "97M4QAgKiigq",
        "colab_type": "code",
        "colab": {
          "base_uri": "https://localhost:8080/",
          "height": 35
        },
        "outputId": "8ed876b1-d05b-45ca-a6eb-4ac72ee8885f"
      },
      "source": [
        "!pwd"
      ],
      "execution_count": 3,
      "outputs": [
        {
          "output_type": "stream",
          "text": [
            "/content\n"
          ],
          "name": "stdout"
        }
      ]
    },
    {
      "cell_type": "code",
      "metadata": {
        "id": "RtxI6U_Siqb4",
        "colab_type": "code",
        "colab": {
          "base_uri": "https://localhost:8080/",
          "height": 35
        },
        "outputId": "aca23337-308d-41bf-fa1d-8a9c03490ac4"
      },
      "source": [
        "!ls"
      ],
      "execution_count": 4,
      "outputs": [
        {
          "output_type": "stream",
          "text": [
            "ml-20m\tml-20m.zip  sample_data\n"
          ],
          "name": "stdout"
        }
      ]
    },
    {
      "cell_type": "code",
      "metadata": {
        "id": "fymL1LNciq8d",
        "colab_type": "code",
        "colab": {
          "base_uri": "https://localhost:8080/",
          "height": 52
        },
        "outputId": "deb60f00-a1ef-45bf-8280-3ce5f0f952d3"
      },
      "source": [
        "!ls ml-20m"
      ],
      "execution_count": 5,
      "outputs": [
        {
          "output_type": "stream",
          "text": [
            "genome-scores.csv  links.csv   ratings.csv  tags.csv\n",
            "genome-tags.csv    movies.csv  README.txt\n"
          ],
          "name": "stdout"
        }
      ]
    },
    {
      "cell_type": "code",
      "metadata": {
        "id": "y3-Cjr1kiwVQ",
        "colab_type": "code",
        "colab": {}
      },
      "source": [
        "%matplotlib inline\n",
        "import os\n",
        "import pandas as pd\n",
        "import pickle\n",
        "import torch\n",
        "import torch.nn as nn\n",
        "import torch.nn.functional as F\n",
        "import matplotlib.pyplot as plt\n",
        "import numpy as np"
      ],
      "execution_count": 0,
      "outputs": []
    },
    {
      "cell_type": "code",
      "metadata": {
        "id": "R0z7EL9Ki92t",
        "colab_type": "code",
        "colab": {
          "base_uri": "https://localhost:8080/",
          "height": 219
        },
        "outputId": "54dacde6-80a6-455d-86e9-47ecd7134fb4"
      },
      "source": [
        "print('movies.csv: ')\n",
        "movies = pd.read_csv('/content/ml-20m/movies.csv',index_col=None)\n",
        "movies.describe()\n",
        "movies.head(5)"
      ],
      "execution_count": 7,
      "outputs": [
        {
          "output_type": "stream",
          "text": [
            "movies.csv: \n"
          ],
          "name": "stdout"
        },
        {
          "output_type": "execute_result",
          "data": {
            "text/html": [
              "<div>\n",
              "<style scoped>\n",
              "    .dataframe tbody tr th:only-of-type {\n",
              "        vertical-align: middle;\n",
              "    }\n",
              "\n",
              "    .dataframe tbody tr th {\n",
              "        vertical-align: top;\n",
              "    }\n",
              "\n",
              "    .dataframe thead th {\n",
              "        text-align: right;\n",
              "    }\n",
              "</style>\n",
              "<table border=\"1\" class=\"dataframe\">\n",
              "  <thead>\n",
              "    <tr style=\"text-align: right;\">\n",
              "      <th></th>\n",
              "      <th>movieId</th>\n",
              "      <th>title</th>\n",
              "      <th>genres</th>\n",
              "    </tr>\n",
              "  </thead>\n",
              "  <tbody>\n",
              "    <tr>\n",
              "      <th>0</th>\n",
              "      <td>1</td>\n",
              "      <td>Toy Story (1995)</td>\n",
              "      <td>Adventure|Animation|Children|Comedy|Fantasy</td>\n",
              "    </tr>\n",
              "    <tr>\n",
              "      <th>1</th>\n",
              "      <td>2</td>\n",
              "      <td>Jumanji (1995)</td>\n",
              "      <td>Adventure|Children|Fantasy</td>\n",
              "    </tr>\n",
              "    <tr>\n",
              "      <th>2</th>\n",
              "      <td>3</td>\n",
              "      <td>Grumpier Old Men (1995)</td>\n",
              "      <td>Comedy|Romance</td>\n",
              "    </tr>\n",
              "    <tr>\n",
              "      <th>3</th>\n",
              "      <td>4</td>\n",
              "      <td>Waiting to Exhale (1995)</td>\n",
              "      <td>Comedy|Drama|Romance</td>\n",
              "    </tr>\n",
              "    <tr>\n",
              "      <th>4</th>\n",
              "      <td>5</td>\n",
              "      <td>Father of the Bride Part II (1995)</td>\n",
              "      <td>Comedy</td>\n",
              "    </tr>\n",
              "  </tbody>\n",
              "</table>\n",
              "</div>"
            ],
            "text/plain": [
              "   movieId  ...                                       genres\n",
              "0        1  ...  Adventure|Animation|Children|Comedy|Fantasy\n",
              "1        2  ...                   Adventure|Children|Fantasy\n",
              "2        3  ...                               Comedy|Romance\n",
              "3        4  ...                         Comedy|Drama|Romance\n",
              "4        5  ...                                       Comedy\n",
              "\n",
              "[5 rows x 3 columns]"
            ]
          },
          "metadata": {
            "tags": []
          },
          "execution_count": 7
        }
      ]
    },
    {
      "cell_type": "code",
      "metadata": {
        "id": "_YLaftc5jqTk",
        "colab_type": "code",
        "colab": {
          "base_uri": "https://localhost:8080/",
          "height": 219
        },
        "outputId": "993d5a26-65e4-4af0-fc27-734f447fee43"
      },
      "source": [
        "print('ratings.csv: ')\n",
        "ratings = pd.read_csv('/content/ml-20m/ratings.csv',index_col=None)\n",
        "ratings.describe()\n",
        "ratings.head(5)"
      ],
      "execution_count": 8,
      "outputs": [
        {
          "output_type": "stream",
          "text": [
            "ratings.csv: \n"
          ],
          "name": "stdout"
        },
        {
          "output_type": "execute_result",
          "data": {
            "text/html": [
              "<div>\n",
              "<style scoped>\n",
              "    .dataframe tbody tr th:only-of-type {\n",
              "        vertical-align: middle;\n",
              "    }\n",
              "\n",
              "    .dataframe tbody tr th {\n",
              "        vertical-align: top;\n",
              "    }\n",
              "\n",
              "    .dataframe thead th {\n",
              "        text-align: right;\n",
              "    }\n",
              "</style>\n",
              "<table border=\"1\" class=\"dataframe\">\n",
              "  <thead>\n",
              "    <tr style=\"text-align: right;\">\n",
              "      <th></th>\n",
              "      <th>userId</th>\n",
              "      <th>movieId</th>\n",
              "      <th>rating</th>\n",
              "      <th>timestamp</th>\n",
              "    </tr>\n",
              "  </thead>\n",
              "  <tbody>\n",
              "    <tr>\n",
              "      <th>0</th>\n",
              "      <td>1</td>\n",
              "      <td>2</td>\n",
              "      <td>3.5</td>\n",
              "      <td>1112486027</td>\n",
              "    </tr>\n",
              "    <tr>\n",
              "      <th>1</th>\n",
              "      <td>1</td>\n",
              "      <td>29</td>\n",
              "      <td>3.5</td>\n",
              "      <td>1112484676</td>\n",
              "    </tr>\n",
              "    <tr>\n",
              "      <th>2</th>\n",
              "      <td>1</td>\n",
              "      <td>32</td>\n",
              "      <td>3.5</td>\n",
              "      <td>1112484819</td>\n",
              "    </tr>\n",
              "    <tr>\n",
              "      <th>3</th>\n",
              "      <td>1</td>\n",
              "      <td>47</td>\n",
              "      <td>3.5</td>\n",
              "      <td>1112484727</td>\n",
              "    </tr>\n",
              "    <tr>\n",
              "      <th>4</th>\n",
              "      <td>1</td>\n",
              "      <td>50</td>\n",
              "      <td>3.5</td>\n",
              "      <td>1112484580</td>\n",
              "    </tr>\n",
              "  </tbody>\n",
              "</table>\n",
              "</div>"
            ],
            "text/plain": [
              "   userId  movieId  rating   timestamp\n",
              "0       1        2     3.5  1112486027\n",
              "1       1       29     3.5  1112484676\n",
              "2       1       32     3.5  1112484819\n",
              "3       1       47     3.5  1112484727\n",
              "4       1       50     3.5  1112484580"
            ]
          },
          "metadata": {
            "tags": []
          },
          "execution_count": 8
        }
      ]
    },
    {
      "cell_type": "code",
      "metadata": {
        "id": "TsvlNN-CkPl6",
        "colab_type": "code",
        "colab": {
          "base_uri": "https://localhost:8080/",
          "height": 219
        },
        "outputId": "373c0b3d-2579-4e90-f015-7f6e2ab28fff"
      },
      "source": [
        "print('tags.csv: ')\n",
        "tags = pd.read_csv('/content/ml-20m/tags.csv',index_col=None)\n",
        "tags.describe()\n",
        "tags.head(5)"
      ],
      "execution_count": 9,
      "outputs": [
        {
          "output_type": "stream",
          "text": [
            "tags.csv: \n"
          ],
          "name": "stdout"
        },
        {
          "output_type": "execute_result",
          "data": {
            "text/html": [
              "<div>\n",
              "<style scoped>\n",
              "    .dataframe tbody tr th:only-of-type {\n",
              "        vertical-align: middle;\n",
              "    }\n",
              "\n",
              "    .dataframe tbody tr th {\n",
              "        vertical-align: top;\n",
              "    }\n",
              "\n",
              "    .dataframe thead th {\n",
              "        text-align: right;\n",
              "    }\n",
              "</style>\n",
              "<table border=\"1\" class=\"dataframe\">\n",
              "  <thead>\n",
              "    <tr style=\"text-align: right;\">\n",
              "      <th></th>\n",
              "      <th>userId</th>\n",
              "      <th>movieId</th>\n",
              "      <th>tag</th>\n",
              "      <th>timestamp</th>\n",
              "    </tr>\n",
              "  </thead>\n",
              "  <tbody>\n",
              "    <tr>\n",
              "      <th>0</th>\n",
              "      <td>18</td>\n",
              "      <td>4141</td>\n",
              "      <td>Mark Waters</td>\n",
              "      <td>1240597180</td>\n",
              "    </tr>\n",
              "    <tr>\n",
              "      <th>1</th>\n",
              "      <td>65</td>\n",
              "      <td>208</td>\n",
              "      <td>dark hero</td>\n",
              "      <td>1368150078</td>\n",
              "    </tr>\n",
              "    <tr>\n",
              "      <th>2</th>\n",
              "      <td>65</td>\n",
              "      <td>353</td>\n",
              "      <td>dark hero</td>\n",
              "      <td>1368150079</td>\n",
              "    </tr>\n",
              "    <tr>\n",
              "      <th>3</th>\n",
              "      <td>65</td>\n",
              "      <td>521</td>\n",
              "      <td>noir thriller</td>\n",
              "      <td>1368149983</td>\n",
              "    </tr>\n",
              "    <tr>\n",
              "      <th>4</th>\n",
              "      <td>65</td>\n",
              "      <td>592</td>\n",
              "      <td>dark hero</td>\n",
              "      <td>1368150078</td>\n",
              "    </tr>\n",
              "  </tbody>\n",
              "</table>\n",
              "</div>"
            ],
            "text/plain": [
              "   userId  movieId            tag   timestamp\n",
              "0      18     4141    Mark Waters  1240597180\n",
              "1      65      208      dark hero  1368150078\n",
              "2      65      353      dark hero  1368150079\n",
              "3      65      521  noir thriller  1368149983\n",
              "4      65      592      dark hero  1368150078"
            ]
          },
          "metadata": {
            "tags": []
          },
          "execution_count": 9
        }
      ]
    },
    {
      "cell_type": "code",
      "metadata": {
        "id": "AE7mwIwTkatF",
        "colab_type": "code",
        "colab": {
          "base_uri": "https://localhost:8080/",
          "height": 219
        },
        "outputId": "c559a796-bc79-449c-feb1-6a8f3d036914"
      },
      "source": [
        "print('genome-tags.csv: ')\n",
        "genome_tags = pd.read_csv('/content/ml-20m/genome-tags.csv',index_col=None)\n",
        "genome_tags.describe()\n",
        "genome_tags.head(5)"
      ],
      "execution_count": 10,
      "outputs": [
        {
          "output_type": "stream",
          "text": [
            "genome-tags.csv: \n"
          ],
          "name": "stdout"
        },
        {
          "output_type": "execute_result",
          "data": {
            "text/html": [
              "<div>\n",
              "<style scoped>\n",
              "    .dataframe tbody tr th:only-of-type {\n",
              "        vertical-align: middle;\n",
              "    }\n",
              "\n",
              "    .dataframe tbody tr th {\n",
              "        vertical-align: top;\n",
              "    }\n",
              "\n",
              "    .dataframe thead th {\n",
              "        text-align: right;\n",
              "    }\n",
              "</style>\n",
              "<table border=\"1\" class=\"dataframe\">\n",
              "  <thead>\n",
              "    <tr style=\"text-align: right;\">\n",
              "      <th></th>\n",
              "      <th>tagId</th>\n",
              "      <th>tag</th>\n",
              "    </tr>\n",
              "  </thead>\n",
              "  <tbody>\n",
              "    <tr>\n",
              "      <th>0</th>\n",
              "      <td>1</td>\n",
              "      <td>007</td>\n",
              "    </tr>\n",
              "    <tr>\n",
              "      <th>1</th>\n",
              "      <td>2</td>\n",
              "      <td>007 (series)</td>\n",
              "    </tr>\n",
              "    <tr>\n",
              "      <th>2</th>\n",
              "      <td>3</td>\n",
              "      <td>18th century</td>\n",
              "    </tr>\n",
              "    <tr>\n",
              "      <th>3</th>\n",
              "      <td>4</td>\n",
              "      <td>1920s</td>\n",
              "    </tr>\n",
              "    <tr>\n",
              "      <th>4</th>\n",
              "      <td>5</td>\n",
              "      <td>1930s</td>\n",
              "    </tr>\n",
              "  </tbody>\n",
              "</table>\n",
              "</div>"
            ],
            "text/plain": [
              "   tagId           tag\n",
              "0      1           007\n",
              "1      2  007 (series)\n",
              "2      3  18th century\n",
              "3      4         1920s\n",
              "4      5         1930s"
            ]
          },
          "metadata": {
            "tags": []
          },
          "execution_count": 10
        }
      ]
    },
    {
      "cell_type": "code",
      "metadata": {
        "id": "7QmkqwftkiD6",
        "colab_type": "code",
        "colab": {
          "base_uri": "https://localhost:8080/",
          "height": 219
        },
        "outputId": "3d374b5f-b4ef-4c9d-e40f-c74069a6d507"
      },
      "source": [
        "print('genome-scores.csv: ')\n",
        "genome_scores = pd.read_csv('/content/ml-20m/genome-scores.csv',index_col=None)\n",
        "genome_scores.describe()\n",
        "genome_scores.head(5)"
      ],
      "execution_count": 11,
      "outputs": [
        {
          "output_type": "stream",
          "text": [
            "genome-scores.csv: \n"
          ],
          "name": "stdout"
        },
        {
          "output_type": "execute_result",
          "data": {
            "text/html": [
              "<div>\n",
              "<style scoped>\n",
              "    .dataframe tbody tr th:only-of-type {\n",
              "        vertical-align: middle;\n",
              "    }\n",
              "\n",
              "    .dataframe tbody tr th {\n",
              "        vertical-align: top;\n",
              "    }\n",
              "\n",
              "    .dataframe thead th {\n",
              "        text-align: right;\n",
              "    }\n",
              "</style>\n",
              "<table border=\"1\" class=\"dataframe\">\n",
              "  <thead>\n",
              "    <tr style=\"text-align: right;\">\n",
              "      <th></th>\n",
              "      <th>movieId</th>\n",
              "      <th>tagId</th>\n",
              "      <th>relevance</th>\n",
              "    </tr>\n",
              "  </thead>\n",
              "  <tbody>\n",
              "    <tr>\n",
              "      <th>0</th>\n",
              "      <td>1</td>\n",
              "      <td>1</td>\n",
              "      <td>0.02500</td>\n",
              "    </tr>\n",
              "    <tr>\n",
              "      <th>1</th>\n",
              "      <td>1</td>\n",
              "      <td>2</td>\n",
              "      <td>0.02500</td>\n",
              "    </tr>\n",
              "    <tr>\n",
              "      <th>2</th>\n",
              "      <td>1</td>\n",
              "      <td>3</td>\n",
              "      <td>0.05775</td>\n",
              "    </tr>\n",
              "    <tr>\n",
              "      <th>3</th>\n",
              "      <td>1</td>\n",
              "      <td>4</td>\n",
              "      <td>0.09675</td>\n",
              "    </tr>\n",
              "    <tr>\n",
              "      <th>4</th>\n",
              "      <td>1</td>\n",
              "      <td>5</td>\n",
              "      <td>0.14675</td>\n",
              "    </tr>\n",
              "  </tbody>\n",
              "</table>\n",
              "</div>"
            ],
            "text/plain": [
              "   movieId  tagId  relevance\n",
              "0        1      1    0.02500\n",
              "1        1      2    0.02500\n",
              "2        1      3    0.05775\n",
              "3        1      4    0.09675\n",
              "4        1      5    0.14675"
            ]
          },
          "metadata": {
            "tags": []
          },
          "execution_count": 11
        }
      ]
    },
    {
      "cell_type": "code",
      "metadata": {
        "id": "V08gq0-Ekoob",
        "colab_type": "code",
        "colab": {
          "base_uri": "https://localhost:8080/",
          "height": 243
        },
        "outputId": "fced5a2f-c50b-45a2-e2b5-580cb0985a97"
      },
      "source": [
        "print('The number of movies: {}'.format(movies.count()['movieId']))\n",
        "print('The number of ratings: {}'.format(ratings.count()['movieId']))\n",
        "\n",
        "print('')\n",
        "print('min value of rating: {}'.format(ratings['rating'].min()))\n",
        "print('max value of rating: {}'.format(ratings['rating'].max()))\n",
        "\n",
        "print('')\n",
        "ra = ratings.groupby(ratings['userId']).count()\n",
        "print('The number of user in ratings.csv: {}'.format(ra.count()[0]))\n",
        "print('The minimum number of ratings per user in ratings.csv: {}'.format(ra['movieId'].min()))\n",
        "print('The maximun number of ratings per user in ratings.csv: {}'.format(ra['movieId'].max()))\n",
        "\n",
        "print('')\n",
        "ra = ratings.groupby(ratings['movieId']).count()\n",
        "print('The number of movies in ratings.csv: {}'.format(ra.count()[0]))\n",
        "print('The minimum number of ratings per movie in ratings.csv: {}'.format(ra['userId'].min()))\n",
        "print('The maximun number of ratings per movie in ratings.csv: {}'.format(ra['userId'].max()))"
      ],
      "execution_count": 12,
      "outputs": [
        {
          "output_type": "stream",
          "text": [
            "The number of movies: 27278\n",
            "The number of ratings: 20000263\n",
            "\n",
            "min value of rating: 0.5\n",
            "max value of rating: 5.0\n",
            "\n",
            "The number of user in ratings.csv: 138493\n",
            "The minimum number of ratings per user in ratings.csv: 20\n",
            "The maximun number of ratings per user in ratings.csv: 9254\n",
            "\n",
            "The number of movies in ratings.csv: 26744\n",
            "The minimum number of ratings per movie in ratings.csv: 1\n",
            "The maximun number of ratings per movie in ratings.csv: 67310\n"
          ],
          "name": "stdout"
        }
      ]
    },
    {
      "cell_type": "code",
      "metadata": {
        "id": "8_RsJWnfkwvl",
        "colab_type": "code",
        "colab": {
          "base_uri": "https://localhost:8080/",
          "height": 225
        },
        "outputId": "eef74c7a-e56b-461a-be0d-3c0cc5519361"
      },
      "source": [
        "print('The number of tags in tags.csv: {}'.format(tags.count()['userId']))\n",
        "print('The number of tags in genome-tags.csv: {}'.format(genome_tags.count()['tagId']))\n",
        "\n",
        "print('')\n",
        "ra = tags.groupby(tags['userId']).count()\n",
        "print('The number of user in tags.csv: {}'.format(ra.count()[0]))\n",
        "print('The minimum number of tags per user in tags.csv: {}'.format(ra['movieId'].min()))\n",
        "print('The maximun number of tags per user in tags.csv: {}'.format(ra['movieId'].max()))\n",
        "\n",
        "print('')\n",
        "ra = tags.groupby(tags['movieId']).count()\n",
        "print('The number of movies in tags.csv: {}'.format(ra.count()[0]))\n",
        "print('The minimum number of tags per movie in tags.csv: {}'.format(ra['userId'].min()))\n",
        "print('The maximun number of tags per movie in tags.csv: {}'.format(ra['userId'].max()))\n",
        "\n",
        "print('')\n",
        "tags_mer = pd.merge(tags, genome_tags, how='left', left_on='tag', right_on='tag')\n",
        "print('The number of tags in tags.csv but not in genome-tags.csv: {}'.format(tags_mer[(tags_mer['tagId'].isnull())].count()[0]))"
      ],
      "execution_count": 13,
      "outputs": [
        {
          "output_type": "stream",
          "text": [
            "The number of tags in tags.csv: 465564\n",
            "The number of tags in genome-tags.csv: 1128\n",
            "\n",
            "The number of user in tags.csv: 7801\n",
            "The minimum number of tags per user in tags.csv: 1\n",
            "The maximun number of tags per user in tags.csv: 20356\n",
            "\n",
            "The number of movies in tags.csv: 19545\n",
            "The minimum number of tags per movie in tags.csv: 1\n",
            "The maximun number of tags per movie in tags.csv: 1994\n",
            "\n",
            "The number of tags in tags.csv but not in genome-tags.csv: 247993\n"
          ],
          "name": "stdout"
        }
      ]
    },
    {
      "cell_type": "code",
      "metadata": {
        "id": "wgYUegjyk1eL",
        "colab_type": "code",
        "colab": {
          "base_uri": "https://localhost:8080/",
          "height": 139
        },
        "outputId": "7e3e2f34-e57a-4ed0-bc1c-7743abb1abdb"
      },
      "source": [
        "print('The length of genome_scores.csv: {}'.format(genome_scores.count()['movieId']))\n",
        "print('max value of relevance from genome_scores.csv: {}'.format(genome_scores['relevance'].max()))\n",
        "print('min value of relevance from genome_scores.csv: {}'.format(genome_scores['relevance'].min()))\n",
        "\n",
        "print('')\n",
        "ra = genome_scores.groupby(genome_scores['movieId']).count()\n",
        "print('The number of movies in genome_scores.csv: {}'.format(ra.count()[0]))\n",
        "print('The minimum number of tags per movie in genome_scores.csv: {}'.format(ra['tagId'].min()))\n",
        "print('The maximun number of tags per movie in genome_scores.csv: {}'.format(ra['tagId'].max()))"
      ],
      "execution_count": 14,
      "outputs": [
        {
          "output_type": "stream",
          "text": [
            "The length of genome_scores.csv: 11709768\n",
            "max value of relevance from genome_scores.csv: 1.0\n",
            "min value of relevance from genome_scores.csv: 0.00024999999999997247\n",
            "\n",
            "The number of movies in genome_scores.csv: 10381\n",
            "The minimum number of tags per movie in genome_scores.csv: 1128\n",
            "The maximun number of tags per movie in genome_scores.csv: 1128\n"
          ],
          "name": "stdout"
        }
      ]
    },
    {
      "cell_type": "code",
      "metadata": {
        "id": "OI1pVRxmk7RQ",
        "colab_type": "code",
        "colab": {
          "base_uri": "https://localhost:8080/",
          "height": 104
        },
        "outputId": "a4fbe3a5-5423-4ac3-9575-9d04251efa67"
      },
      "source": [
        "# Analysis of the relevant data of movies in both genome_scores.csv and ratings.csv:\n",
        "\n",
        "genome_scores_group = genome_scores.groupby(genome_scores['movieId']).mean()\n",
        "ratings_group = ratings.groupby(ratings['movieId']).mean()\n",
        "rat_ge_merge = pd.merge(ratings_group, genome_scores_group, how='inner', left_on='movieId', right_on='movieId')\n",
        "number = rat_ge_merge.count()[0]\n",
        "print('Number of movies in both genome_scores.csv and ratings.csv: {}. Take up {}% of ratings.csv'\\\n",
        "      .format(number, round(number/19545*100)))\n",
        "\n",
        "ratings_genome_merge = pd.merge(ratings, genome_scores_group, how='inner', left_on='movieId', right_on='movieId')\n",
        "number = ratings_genome_merge.count()[0]\n",
        "print('Number of ratings where its movieId in genome_scores.csv: {}. Take up {}% of ratings.csv'\\\n",
        "      .format(number, round(number/20000263*100)))\n",
        "\n",
        "print('')\n",
        "ra = ratings_genome_merge.groupby(ratings_genome_merge['userId']).count()\n",
        "number = ra.count()[0]\n",
        "print('{} users rate the movies appearing in both genome_scores.csv and ratings.csv. Take up {}% of ratings.csv'\\\n",
        "      .format(number, round(number/138493*100)))\n",
        "print('Minimum number of ratings per user for the movies appearing in both genome_scores.csv and ratings.csv: {}'.format(ra['movieId'].min()))"
      ],
      "execution_count": 15,
      "outputs": [
        {
          "output_type": "stream",
          "text": [
            "Number of movies in both genome_scores.csv and ratings.csv: 10370. Take up 53.0% of ratings.csv\n",
            "Number of ratings where its movieId in genome_scores.csv: 19800443. Take up 99.0% of ratings.csv\n",
            "\n",
            "138493 users rate the movies appearing in both genome_scores.csv and ratings.csv. Take up 100.0% of ratings.csv\n",
            "Minimum number of ratings per user for the movies appearing in both genome_scores.csv and ratings.csv: 13\n"
          ],
          "name": "stdout"
        }
      ]
    },
    {
      "cell_type": "code",
      "metadata": {
        "id": "z1m-urwklC8H",
        "colab_type": "code",
        "colab": {}
      },
      "source": [
        "# Preprocess data\n",
        "# The first column of features is userId, the next is movieId.\n",
        "# The only one column of target is rating.\n",
        "\n",
        "remove_fields = ['timestamp','tagId','relevance','rating']\n",
        "target = ratings_genome_merge['rating']\n",
        "feature = ratings_genome_merge.drop(remove_fields, axis=1)\n",
        "features = feature.values\n",
        "target = target.values\n",
        "\n",
        "genome_scores_dict = {}\n",
        "for i in range(10381):\n",
        "    m_id = -1\n",
        "    vec = []\n",
        "    for j in range(1128):\n",
        "        index = j + i * 1128\n",
        "        if m_id < 0:\n",
        "            m_id = genome_scores['movieId'][index]\n",
        "        assert genome_scores['movieId'][index] == m_id\n",
        "        assert genome_scores['tagId'][index] == j + 1\n",
        "        vec.append(genome_scores['relevance'][index])\n",
        "    genome_scores_dict[str(m_id)] = vec"
      ],
      "execution_count": 0,
      "outputs": []
    },
    {
      "cell_type": "code",
      "metadata": {
        "id": "3lpRcfrOlcLw",
        "colab_type": "code",
        "colab": {
          "base_uri": "https://localhost:8080/",
          "height": 52
        },
        "outputId": "c67d0f61-fd08-4086-a7cf-d5f37eb67ba0"
      },
      "source": [
        "# Using train_test_split here is not the best. \n",
        "# The better method is to split the data according the userId, which makes sure every user is in the test set.\n",
        "# We can make it easily and quickly ( We have already included 99.86% users).\n",
        "from sklearn.model_selection import train_test_split\n",
        "train_features,test_features, train_target, test_target = train_test_split(features,  \n",
        "                                                           target,  \n",
        "                                                           test_size = 0.2,  \n",
        "                                                           random_state = 0)\n",
        "\n",
        "dict_t = {}\n",
        "dict_t['userId'] = test_features[:,0]\n",
        "dict_t['movieId'] = test_features[:,1]\n",
        "pd_data = pd.DataFrame.from_dict(dict_t)\n",
        "user_test = pd_data.groupby(pd_data['userId']).count().count()[0]\n",
        "\n",
        "print('{}% users in test set ({} users)'.format(round(user_test/138493*100, 2), user_test ))\n",
        "\n",
        "dict_t = {}\n",
        "dict_t['userId'] = train_features[:,0]\n",
        "dict_t['movieId'] = train_features[:,1]\n",
        "pd_data = pd.DataFrame.from_dict(dict_t)\n",
        "user_train = pd_data.groupby(pd_data['userId']).count().count()[0]\n",
        "\n",
        "print('{}% users in training set ({} users)'.format(round(user_train/138493*100, 2), user_train ))"
      ],
      "execution_count": 17,
      "outputs": [
        {
          "output_type": "stream",
          "text": [
            "99.86% users in test set (138294 users)\n",
            "100.0% users in training set (138493 users)\n"
          ],
          "name": "stdout"
        }
      ]
    },
    {
      "cell_type": "code",
      "metadata": {
        "id": "rBfc4FwHl2rz",
        "colab_type": "code",
        "colab": {}
      },
      "source": [
        "# Save preprocess data to '/content/verify_assumption.data'\n",
        "pickle.dump((train_features, test_features, train_target, test_target, genome_scores_dict), open('/content/verify_assumption.data', 'wb'))"
      ],
      "execution_count": 0,
      "outputs": []
    },
    {
      "cell_type": "code",
      "metadata": {
        "id": "8ofd3UlzmOFH",
        "colab_type": "code",
        "colab": {}
      },
      "source": [
        "# Load preprocess data from '/content/verify_assumption.data'\n",
        "train_features, test_features, train_target, test_target, genome_scores_dict = pickle.load(open('/content/verify_assumption.data', mode='rb'))"
      ],
      "execution_count": 0,
      "outputs": []
    },
    {
      "cell_type": "code",
      "metadata": {
        "id": "tVy75fPOmYhy",
        "colab_type": "code",
        "colab": {}
      },
      "source": [
        "batch_size = 768  # batch size \n",
        "lr = 1e-3         # learning rate\n",
        "feature_dim = 512 # Dimension of movie or user feature vector\n",
        "Epoch = 6         # train epoch"
      ],
      "execution_count": 0,
      "outputs": []
    },
    {
      "cell_type": "code",
      "metadata": {
        "id": "E6OYmSoNqkdU",
        "colab_type": "code",
        "colab": {}
      },
      "source": [
        "class Verify_Assumption_Model(nn.Module):\n",
        "    \"\"\"The whole model\"\"\"\n",
        "    def __init__(self):\n",
        "        super(Verify_Assumption_Model, self).__init__()\n",
        "        # self.emb_user = nn.Embedding(138493 + 1, 512, # use ratings['userId'].max()+1 instead of 138493+1 is better\n",
        "        #                     padding_idx=0)\n",
        "        self.emb_user = nn.Embedding(ratings['userId'].max()+1, 512,\n",
        "                            padding_idx=0)\n",
        "        \n",
        "        self.movie_transfrom = nn.Sequential(\n",
        "            nn.Linear(1128, 512),\n",
        "            nn.Tanh(), # activation function can not be the final layer of Sequential. But it can be the first one.\n",
        "            nn.Linear(512, 512)\n",
        "        )\n",
        "    \n",
        "    def forward(self, userId, movieVector):\n",
        "        v_user  = self.emb_user(userId)\n",
        "        v_movie = self.movie_transfrom(movieVector)\n",
        "        v_user.unsqueeze_(1)\n",
        "        v_movie.unsqueeze_(2)\n",
        "        return torch.bmm(v_user,v_movie)"
      ],
      "execution_count": 0,
      "outputs": []
    },
    {
      "cell_type": "code",
      "metadata": {
        "id": "DYzhni0ArKfR",
        "colab_type": "code",
        "colab": {
          "base_uri": "https://localhost:8080/",
          "height": 1000
        },
        "outputId": "5119cdc5-3937-4dfb-c8dc-890dfb93ef7d"
      },
      "source": [
        "import warnings\n",
        "warnings.simplefilter(\"ignore\")\n",
        "\n",
        "len_train_features = len(train_features)\n",
        "index = 0\n",
        "model = Verify_Assumption_Model()\n",
        "model.cuda()\n",
        "\n",
        "loss_fn = torch.nn.MSELoss(reduce=False, size_average=False)\n",
        "opt = torch.optim.Adam(filter(lambda p: p.requires_grad, model.parameters()),\n",
        "                               lr=lr, weight_decay=0)\n",
        "losses = {'train':[], 'test':[]}\n",
        "\n",
        "for epoch_i in range(Epoch):\n",
        "    index = 0\n",
        "    while index <= len_train_features:\n",
        "        index_end = index + batch_size\n",
        "        if index_end >= len_train_features:\n",
        "            batch_train = train_features[index:len_train_features]\n",
        "            batch_train_target = train_target[index:len_train_features]\n",
        "        else:\n",
        "            batch_train = train_features[index:index_end]\n",
        "            batch_train_target = train_target[index:index_end]\n",
        "\n",
        "        #assert len(batch_train) == len(batch_train_target)\n",
        "\n",
        "        userId = batch_train[:,0]\n",
        "        movieId = batch_train[:,1]\n",
        "        movie_vec = []\n",
        "        for i in range(len(movieId)):\n",
        "            movie_vec.append(genome_scores_dict[str(movieId[i])])\n",
        "\n",
        "\n",
        "        rating = model(torch.tensor(userId, requires_grad = False).cuda(),torch.tensor(movie_vec, requires_grad = False).cuda())\n",
        "        rating = rating.squeeze_(1).squeeze_(1)\n",
        "        loss = sum(loss_fn(rating,torch.tensor(batch_train_target,dtype=torch.float32,requires_grad = False).cuda()))\n",
        "\n",
        "        opt.zero_grad()\n",
        "        loss.backward()\n",
        "        losses['train'].append(loss.detach().cpu().numpy())\n",
        "        opt.step()\n",
        "        if len(losses['train']) % 500 == 0:\n",
        "            print('Epoch {:>3} Batch {:>4}/15840354   train_loss = {:.3f}'.format(\n",
        "                        epoch_i,\n",
        "                        index,\n",
        "                        losses['train'][len(losses['train'])-1]))\n",
        "        index += batch_size\n",
        "        \n",
        "    # test\n",
        "    \n",
        "    len_test_features = len(test_features)\n",
        "    index = 0\n",
        "\n",
        "    while index <= len_test_features:\n",
        "        index_end = index + batch_size\n",
        "        if index_end >= len_train_features:\n",
        "            batch_train = test_features[index:len_train_features]\n",
        "            batch_train_target = test_target[index:len_train_features]\n",
        "        else:\n",
        "            batch_train = test_features[index:index_end]\n",
        "            batch_train_target = test_target[index:index_end]\n",
        "\n",
        "        #assert len(batch_train) == len(batch_train_target)\n",
        "\n",
        "        userId = batch_train[:,0]\n",
        "        movieId = batch_train[:,1]\n",
        "        movie_vec = []\n",
        "        for i in range(len(movieId)):\n",
        "            movie_vec.append(genome_scores_dict[str(movieId[i])])\n",
        "\n",
        "\n",
        "        rating = model(torch.tensor(userId, requires_grad = False).cuda(),torch.tensor(movie_vec, requires_grad = False).cuda())\n",
        "        rating = rating.squeeze_(1).squeeze_(1)\n",
        "        loss = sum(loss_fn(rating,torch.tensor(batch_train_target,dtype=torch.float32,requires_grad = False).cuda()))\n",
        "\n",
        "        losses['test'].append(loss.detach().cpu().numpy())\n",
        "        if len(losses['test']) % 500 == 0:\n",
        "            print('Epoch {:>3} Batch {:>4}/3960089   test_loss = {:.3f}'.format(\n",
        "                        epoch_i,\n",
        "                        index,\n",
        "                        losses['test'][len(losses['test'])-1]))\n",
        "        index += batch_size"
      ],
      "execution_count": 24,
      "outputs": [
        {
          "output_type": "stream",
          "text": [
            "Epoch   0 Batch 383232/15840354   train_loss = 11731.252\n",
            "Epoch   0 Batch 767232/15840354   train_loss = 7939.066\n",
            "Epoch   0 Batch 1151232/15840354   train_loss = 5150.809\n",
            "Epoch   0 Batch 1535232/15840354   train_loss = 2980.807\n",
            "Epoch   0 Batch 1919232/15840354   train_loss = 2632.171\n",
            "Epoch   0 Batch 2303232/15840354   train_loss = 1874.893\n",
            "Epoch   0 Batch 2687232/15840354   train_loss = 1289.654\n",
            "Epoch   0 Batch 3071232/15840354   train_loss = 1311.792\n",
            "Epoch   0 Batch 3455232/15840354   train_loss = 1220.564\n",
            "Epoch   0 Batch 3839232/15840354   train_loss = 1209.877\n",
            "Epoch   0 Batch 4223232/15840354   train_loss = 1461.529\n",
            "Epoch   0 Batch 4607232/15840354   train_loss = 1435.075\n",
            "Epoch   0 Batch 4991232/15840354   train_loss = 1197.248\n",
            "Epoch   0 Batch 5375232/15840354   train_loss = 1375.660\n",
            "Epoch   0 Batch 5759232/15840354   train_loss = 1166.945\n",
            "Epoch   0 Batch 6143232/15840354   train_loss = 1189.283\n",
            "Epoch   0 Batch 6527232/15840354   train_loss = 1220.326\n",
            "Epoch   0 Batch 6911232/15840354   train_loss = 1128.382\n",
            "Epoch   0 Batch 7295232/15840354   train_loss = 1280.552\n",
            "Epoch   0 Batch 7679232/15840354   train_loss = 1152.450\n",
            "Epoch   0 Batch 8063232/15840354   train_loss = 1219.724\n",
            "Epoch   0 Batch 8447232/15840354   train_loss = 1144.662\n",
            "Epoch   0 Batch 8831232/15840354   train_loss = 1246.019\n",
            "Epoch   0 Batch 9215232/15840354   train_loss = 1142.895\n",
            "Epoch   0 Batch 9599232/15840354   train_loss = 1037.818\n",
            "Epoch   0 Batch 9983232/15840354   train_loss = 1095.543\n",
            "Epoch   0 Batch 10367232/15840354   train_loss = 1045.306\n",
            "Epoch   0 Batch 10751232/15840354   train_loss = 1084.005\n",
            "Epoch   0 Batch 11135232/15840354   train_loss = 1047.134\n",
            "Epoch   0 Batch 11519232/15840354   train_loss = 1050.217\n",
            "Epoch   0 Batch 11903232/15840354   train_loss = 1138.543\n",
            "Epoch   0 Batch 12287232/15840354   train_loss = 1155.948\n",
            "Epoch   0 Batch 12671232/15840354   train_loss = 1096.423\n",
            "Epoch   0 Batch 13055232/15840354   train_loss = 1079.105\n",
            "Epoch   0 Batch 13439232/15840354   train_loss = 1070.905\n",
            "Epoch   0 Batch 13823232/15840354   train_loss = 1140.122\n",
            "Epoch   0 Batch 14207232/15840354   train_loss = 1036.687\n",
            "Epoch   0 Batch 14591232/15840354   train_loss = 1117.729\n",
            "Epoch   0 Batch 14975232/15840354   train_loss = 1148.954\n",
            "Epoch   0 Batch 15359232/15840354   train_loss = 1116.172\n",
            "Epoch   0 Batch 15743232/15840354   train_loss = 1103.706\n",
            "Epoch   0 Batch 383232/3960089   test_loss = 1099.392\n",
            "Epoch   0 Batch 767232/3960089   test_loss = 1023.552\n",
            "Epoch   0 Batch 1151232/3960089   test_loss = 1095.126\n",
            "Epoch   0 Batch 1535232/3960089   test_loss = 1211.639\n",
            "Epoch   0 Batch 1919232/3960089   test_loss = 1219.562\n",
            "Epoch   0 Batch 2303232/3960089   test_loss = 1249.867\n",
            "Epoch   0 Batch 2687232/3960089   test_loss = 1100.371\n",
            "Epoch   0 Batch 3071232/3960089   test_loss = 1258.774\n",
            "Epoch   0 Batch 3455232/3960089   test_loss = 1132.322\n",
            "Epoch   0 Batch 3839232/3960089   test_loss = 1279.525\n",
            "Epoch   1 Batch 286464/15840354   train_loss = 989.349\n",
            "Epoch   1 Batch 670464/15840354   train_loss = 948.109\n",
            "Epoch   1 Batch 1054464/15840354   train_loss = 1030.852\n",
            "Epoch   1 Batch 1438464/15840354   train_loss = 926.798\n",
            "Epoch   1 Batch 1822464/15840354   train_loss = 1105.030\n",
            "Epoch   1 Batch 2206464/15840354   train_loss = 1073.056\n",
            "Epoch   1 Batch 2590464/15840354   train_loss = 1049.631\n",
            "Epoch   1 Batch 2974464/15840354   train_loss = 1103.010\n",
            "Epoch   1 Batch 3358464/15840354   train_loss = 1012.405\n",
            "Epoch   1 Batch 3742464/15840354   train_loss = 1224.266\n",
            "Epoch   1 Batch 4126464/15840354   train_loss = 1105.155\n",
            "Epoch   1 Batch 4510464/15840354   train_loss = 982.726\n",
            "Epoch   1 Batch 4894464/15840354   train_loss = 1041.374\n",
            "Epoch   1 Batch 5278464/15840354   train_loss = 945.651\n",
            "Epoch   1 Batch 5662464/15840354   train_loss = 952.491\n",
            "Epoch   1 Batch 6046464/15840354   train_loss = 1102.966\n",
            "Epoch   1 Batch 6430464/15840354   train_loss = 1186.519\n",
            "Epoch   1 Batch 6814464/15840354   train_loss = 1026.207\n",
            "Epoch   1 Batch 7198464/15840354   train_loss = 1009.807\n",
            "Epoch   1 Batch 7582464/15840354   train_loss = 1073.814\n",
            "Epoch   1 Batch 7966464/15840354   train_loss = 1050.273\n",
            "Epoch   1 Batch 8350464/15840354   train_loss = 1011.345\n",
            "Epoch   1 Batch 8734464/15840354   train_loss = 1058.347\n",
            "Epoch   1 Batch 9118464/15840354   train_loss = 962.565\n",
            "Epoch   1 Batch 9502464/15840354   train_loss = 1066.234\n",
            "Epoch   1 Batch 9886464/15840354   train_loss = 1025.239\n",
            "Epoch   1 Batch 10270464/15840354   train_loss = 920.347\n",
            "Epoch   1 Batch 10654464/15840354   train_loss = 971.343\n",
            "Epoch   1 Batch 11038464/15840354   train_loss = 1119.268\n",
            "Epoch   1 Batch 11422464/15840354   train_loss = 1020.758\n",
            "Epoch   1 Batch 11806464/15840354   train_loss = 901.438\n",
            "Epoch   1 Batch 12190464/15840354   train_loss = 1094.391\n",
            "Epoch   1 Batch 12574464/15840354   train_loss = 995.050\n",
            "Epoch   1 Batch 12958464/15840354   train_loss = 852.319\n",
            "Epoch   1 Batch 13342464/15840354   train_loss = 945.563\n",
            "Epoch   1 Batch 13726464/15840354   train_loss = 1045.936\n",
            "Epoch   1 Batch 14110464/15840354   train_loss = 1132.805\n",
            "Epoch   1 Batch 14494464/15840354   train_loss = 1035.802\n",
            "Epoch   1 Batch 14878464/15840354   train_loss = 1045.526\n",
            "Epoch   1 Batch 15262464/15840354   train_loss = 882.765\n",
            "Epoch   1 Batch 15646464/15840354   train_loss = 966.013\n",
            "Epoch   1 Batch 262656/3960089   test_loss = 1080.401\n",
            "Epoch   1 Batch 646656/3960089   test_loss = 1089.780\n",
            "Epoch   1 Batch 1030656/3960089   test_loss = 1053.173\n",
            "Epoch   1 Batch 1414656/3960089   test_loss = 1039.188\n",
            "Epoch   1 Batch 1798656/3960089   test_loss = 1063.126\n",
            "Epoch   1 Batch 2182656/3960089   test_loss = 1063.812\n",
            "Epoch   1 Batch 2566656/3960089   test_loss = 978.940\n",
            "Epoch   1 Batch 2950656/3960089   test_loss = 1039.531\n",
            "Epoch   1 Batch 3334656/3960089   test_loss = 997.748\n",
            "Epoch   1 Batch 3718656/3960089   test_loss = 944.671\n",
            "Epoch   2 Batch 189696/15840354   train_loss = 1022.788\n",
            "Epoch   2 Batch 573696/15840354   train_loss = 987.362\n",
            "Epoch   2 Batch 957696/15840354   train_loss = 872.322\n",
            "Epoch   2 Batch 1341696/15840354   train_loss = 966.578\n",
            "Epoch   2 Batch 1725696/15840354   train_loss = 915.367\n",
            "Epoch   2 Batch 2109696/15840354   train_loss = 881.381\n",
            "Epoch   2 Batch 2493696/15840354   train_loss = 878.725\n",
            "Epoch   2 Batch 2877696/15840354   train_loss = 941.500\n",
            "Epoch   2 Batch 3261696/15840354   train_loss = 1011.990\n",
            "Epoch   2 Batch 3645696/15840354   train_loss = 976.398\n",
            "Epoch   2 Batch 4029696/15840354   train_loss = 1029.353\n",
            "Epoch   2 Batch 4413696/15840354   train_loss = 894.490\n",
            "Epoch   2 Batch 4797696/15840354   train_loss = 872.061\n",
            "Epoch   2 Batch 5181696/15840354   train_loss = 904.161\n",
            "Epoch   2 Batch 5565696/15840354   train_loss = 1022.727\n",
            "Epoch   2 Batch 5949696/15840354   train_loss = 918.425\n",
            "Epoch   2 Batch 6333696/15840354   train_loss = 904.036\n",
            "Epoch   2 Batch 6717696/15840354   train_loss = 912.200\n",
            "Epoch   2 Batch 7101696/15840354   train_loss = 895.248\n",
            "Epoch   2 Batch 7485696/15840354   train_loss = 998.944\n",
            "Epoch   2 Batch 7869696/15840354   train_loss = 897.232\n",
            "Epoch   2 Batch 8253696/15840354   train_loss = 1028.228\n",
            "Epoch   2 Batch 8637696/15840354   train_loss = 1032.871\n",
            "Epoch   2 Batch 9021696/15840354   train_loss = 935.334\n",
            "Epoch   2 Batch 9405696/15840354   train_loss = 961.757\n",
            "Epoch   2 Batch 9789696/15840354   train_loss = 935.651\n",
            "Epoch   2 Batch 10173696/15840354   train_loss = 950.931\n",
            "Epoch   2 Batch 10557696/15840354   train_loss = 891.743\n",
            "Epoch   2 Batch 10941696/15840354   train_loss = 964.495\n",
            "Epoch   2 Batch 11325696/15840354   train_loss = 973.946\n",
            "Epoch   2 Batch 11709696/15840354   train_loss = 1006.599\n",
            "Epoch   2 Batch 12093696/15840354   train_loss = 979.611\n",
            "Epoch   2 Batch 12477696/15840354   train_loss = 903.998\n",
            "Epoch   2 Batch 12861696/15840354   train_loss = 921.611\n",
            "Epoch   2 Batch 13245696/15840354   train_loss = 1009.032\n",
            "Epoch   2 Batch 13629696/15840354   train_loss = 807.101\n",
            "Epoch   2 Batch 14013696/15840354   train_loss = 920.174\n",
            "Epoch   2 Batch 14397696/15840354   train_loss = 949.783\n",
            "Epoch   2 Batch 14781696/15840354   train_loss = 973.281\n",
            "Epoch   2 Batch 15165696/15840354   train_loss = 939.539\n",
            "Epoch   2 Batch 15549696/15840354   train_loss = 900.986\n",
            "Epoch   2 Batch 142080/3960089   test_loss = 1244.614\n",
            "Epoch   2 Batch 526080/3960089   test_loss = 1183.772\n",
            "Epoch   2 Batch 910080/3960089   test_loss = 1115.595\n",
            "Epoch   2 Batch 1294080/3960089   test_loss = 1118.022\n",
            "Epoch   2 Batch 1678080/3960089   test_loss = 1263.695\n",
            "Epoch   2 Batch 2062080/3960089   test_loss = 1162.210\n",
            "Epoch   2 Batch 2446080/3960089   test_loss = 1101.119\n",
            "Epoch   2 Batch 2830080/3960089   test_loss = 1143.224\n",
            "Epoch   2 Batch 3214080/3960089   test_loss = 1243.629\n",
            "Epoch   2 Batch 3598080/3960089   test_loss = 1181.602\n",
            "Epoch   3 Batch 92928/15840354   train_loss = 978.355\n",
            "Epoch   3 Batch 476928/15840354   train_loss = 983.273\n",
            "Epoch   3 Batch 860928/15840354   train_loss = 898.408\n",
            "Epoch   3 Batch 1244928/15840354   train_loss = 973.616\n",
            "Epoch   3 Batch 1628928/15840354   train_loss = 898.356\n",
            "Epoch   3 Batch 2012928/15840354   train_loss = 1077.894\n",
            "Epoch   3 Batch 2396928/15840354   train_loss = 1062.092\n",
            "Epoch   3 Batch 2780928/15840354   train_loss = 877.168\n",
            "Epoch   3 Batch 3164928/15840354   train_loss = 891.279\n",
            "Epoch   3 Batch 3548928/15840354   train_loss = 867.742\n",
            "Epoch   3 Batch 3932928/15840354   train_loss = 949.476\n",
            "Epoch   3 Batch 4316928/15840354   train_loss = 955.581\n",
            "Epoch   3 Batch 4700928/15840354   train_loss = 907.286\n",
            "Epoch   3 Batch 5084928/15840354   train_loss = 1053.503\n",
            "Epoch   3 Batch 5468928/15840354   train_loss = 963.925\n",
            "Epoch   3 Batch 5852928/15840354   train_loss = 926.895\n",
            "Epoch   3 Batch 6236928/15840354   train_loss = 875.597\n",
            "Epoch   3 Batch 6620928/15840354   train_loss = 926.096\n",
            "Epoch   3 Batch 7004928/15840354   train_loss = 1021.459\n",
            "Epoch   3 Batch 7388928/15840354   train_loss = 896.748\n",
            "Epoch   3 Batch 7772928/15840354   train_loss = 969.528\n",
            "Epoch   3 Batch 8156928/15840354   train_loss = 847.835\n",
            "Epoch   3 Batch 8540928/15840354   train_loss = 804.294\n",
            "Epoch   3 Batch 8924928/15840354   train_loss = 981.272\n",
            "Epoch   3 Batch 9308928/15840354   train_loss = 1054.466\n",
            "Epoch   3 Batch 9692928/15840354   train_loss = 954.212\n",
            "Epoch   3 Batch 10076928/15840354   train_loss = 939.053\n",
            "Epoch   3 Batch 10460928/15840354   train_loss = 853.165\n",
            "Epoch   3 Batch 10844928/15840354   train_loss = 789.281\n",
            "Epoch   3 Batch 11228928/15840354   train_loss = 980.224\n",
            "Epoch   3 Batch 11612928/15840354   train_loss = 937.581\n",
            "Epoch   3 Batch 11996928/15840354   train_loss = 949.830\n",
            "Epoch   3 Batch 12380928/15840354   train_loss = 883.849\n",
            "Epoch   3 Batch 12764928/15840354   train_loss = 856.906\n",
            "Epoch   3 Batch 13148928/15840354   train_loss = 872.513\n",
            "Epoch   3 Batch 13532928/15840354   train_loss = 891.784\n",
            "Epoch   3 Batch 13916928/15840354   train_loss = 938.838\n",
            "Epoch   3 Batch 14300928/15840354   train_loss = 778.810\n",
            "Epoch   3 Batch 14684928/15840354   train_loss = 897.556\n",
            "Epoch   3 Batch 15068928/15840354   train_loss = 911.597\n",
            "Epoch   3 Batch 15452928/15840354   train_loss = 997.419\n",
            "Epoch   3 Batch 15836928/15840354   train_loss = 848.827\n",
            "Epoch   3 Batch 21504/3960089   test_loss = 1235.925\n",
            "Epoch   3 Batch 405504/3960089   test_loss = 1137.176\n",
            "Epoch   3 Batch 789504/3960089   test_loss = 1230.731\n",
            "Epoch   3 Batch 1173504/3960089   test_loss = 1141.910\n",
            "Epoch   3 Batch 1557504/3960089   test_loss = 1274.920\n",
            "Epoch   3 Batch 1941504/3960089   test_loss = 1220.107\n",
            "Epoch   3 Batch 2325504/3960089   test_loss = 1244.830\n",
            "Epoch   3 Batch 2709504/3960089   test_loss = 1266.911\n",
            "Epoch   3 Batch 3093504/3960089   test_loss = 1199.740\n",
            "Epoch   3 Batch 3477504/3960089   test_loss = 1077.753\n",
            "Epoch   3 Batch 3861504/3960089   test_loss = 1138.800\n",
            "Epoch   4 Batch 380160/15840354   train_loss = 913.162\n",
            "Epoch   4 Batch 764160/15840354   train_loss = 862.268\n",
            "Epoch   4 Batch 1148160/15840354   train_loss = 860.690\n",
            "Epoch   4 Batch 1532160/15840354   train_loss = 900.420\n",
            "Epoch   4 Batch 1916160/15840354   train_loss = 952.002\n",
            "Epoch   4 Batch 2300160/15840354   train_loss = 833.679\n",
            "Epoch   4 Batch 2684160/15840354   train_loss = 999.651\n",
            "Epoch   4 Batch 3068160/15840354   train_loss = 868.625\n",
            "Epoch   4 Batch 3452160/15840354   train_loss = 1005.324\n",
            "Epoch   4 Batch 3836160/15840354   train_loss = 883.688\n",
            "Epoch   4 Batch 4220160/15840354   train_loss = 899.078\n",
            "Epoch   4 Batch 4604160/15840354   train_loss = 809.397\n",
            "Epoch   4 Batch 4988160/15840354   train_loss = 1049.860\n",
            "Epoch   4 Batch 5372160/15840354   train_loss = 1067.736\n",
            "Epoch   4 Batch 5756160/15840354   train_loss = 886.381\n",
            "Epoch   4 Batch 6140160/15840354   train_loss = 1037.472\n",
            "Epoch   4 Batch 6524160/15840354   train_loss = 1001.734\n",
            "Epoch   4 Batch 6908160/15840354   train_loss = 1096.250\n",
            "Epoch   4 Batch 7292160/15840354   train_loss = 930.903\n",
            "Epoch   4 Batch 7676160/15840354   train_loss = 817.625\n",
            "Epoch   4 Batch 8060160/15840354   train_loss = 893.149\n",
            "Epoch   4 Batch 8444160/15840354   train_loss = 941.866\n",
            "Epoch   4 Batch 8828160/15840354   train_loss = 883.570\n",
            "Epoch   4 Batch 9212160/15840354   train_loss = 884.926\n",
            "Epoch   4 Batch 9596160/15840354   train_loss = 919.197\n",
            "Epoch   4 Batch 9980160/15840354   train_loss = 1004.735\n",
            "Epoch   4 Batch 10364160/15840354   train_loss = 879.623\n",
            "Epoch   4 Batch 10748160/15840354   train_loss = 996.725\n",
            "Epoch   4 Batch 11132160/15840354   train_loss = 930.998\n",
            "Epoch   4 Batch 11516160/15840354   train_loss = 735.940\n",
            "Epoch   4 Batch 11900160/15840354   train_loss = 941.304\n",
            "Epoch   4 Batch 12284160/15840354   train_loss = 834.484\n",
            "Epoch   4 Batch 12668160/15840354   train_loss = 910.153\n",
            "Epoch   4 Batch 13052160/15840354   train_loss = 851.873\n",
            "Epoch   4 Batch 13436160/15840354   train_loss = 944.978\n",
            "Epoch   4 Batch 13820160/15840354   train_loss = 914.298\n",
            "Epoch   4 Batch 14204160/15840354   train_loss = 789.859\n",
            "Epoch   4 Batch 14588160/15840354   train_loss = 857.650\n",
            "Epoch   4 Batch 14972160/15840354   train_loss = 829.434\n",
            "Epoch   4 Batch 15356160/15840354   train_loss = 950.407\n",
            "Epoch   4 Batch 15740160/15840354   train_loss = 948.941\n",
            "Epoch   4 Batch 284928/3960089   test_loss = 1275.058\n",
            "Epoch   4 Batch 668928/3960089   test_loss = 1178.515\n",
            "Epoch   4 Batch 1052928/3960089   test_loss = 1172.523\n",
            "Epoch   4 Batch 1436928/3960089   test_loss = 1280.623\n",
            "Epoch   4 Batch 1820928/3960089   test_loss = 1206.879\n",
            "Epoch   4 Batch 2204928/3960089   test_loss = 1235.509\n",
            "Epoch   4 Batch 2588928/3960089   test_loss = 1302.975\n",
            "Epoch   4 Batch 2972928/3960089   test_loss = 1287.283\n",
            "Epoch   4 Batch 3356928/3960089   test_loss = 1193.077\n",
            "Epoch   4 Batch 3740928/3960089   test_loss = 1165.832\n",
            "Epoch   5 Batch 283392/15840354   train_loss = 888.977\n",
            "Epoch   5 Batch 667392/15840354   train_loss = 837.024\n",
            "Epoch   5 Batch 1051392/15840354   train_loss = 856.802\n",
            "Epoch   5 Batch 1435392/15840354   train_loss = 834.745\n",
            "Epoch   5 Batch 1819392/15840354   train_loss = 875.774\n",
            "Epoch   5 Batch 2203392/15840354   train_loss = 800.172\n",
            "Epoch   5 Batch 2587392/15840354   train_loss = 841.438\n",
            "Epoch   5 Batch 2971392/15840354   train_loss = 798.144\n",
            "Epoch   5 Batch 3355392/15840354   train_loss = 907.607\n",
            "Epoch   5 Batch 3739392/15840354   train_loss = 983.145\n",
            "Epoch   5 Batch 4123392/15840354   train_loss = 845.164\n",
            "Epoch   5 Batch 4507392/15840354   train_loss = 881.078\n",
            "Epoch   5 Batch 4891392/15840354   train_loss = 1148.819\n",
            "Epoch   5 Batch 5275392/15840354   train_loss = 725.131\n",
            "Epoch   5 Batch 5659392/15840354   train_loss = 830.221\n",
            "Epoch   5 Batch 6043392/15840354   train_loss = 1065.496\n",
            "Epoch   5 Batch 6427392/15840354   train_loss = 896.797\n",
            "Epoch   5 Batch 6811392/15840354   train_loss = 878.129\n",
            "Epoch   5 Batch 7195392/15840354   train_loss = 938.375\n",
            "Epoch   5 Batch 7579392/15840354   train_loss = 849.953\n",
            "Epoch   5 Batch 7963392/15840354   train_loss = 751.385\n",
            "Epoch   5 Batch 8347392/15840354   train_loss = 959.751\n",
            "Epoch   5 Batch 8731392/15840354   train_loss = 780.298\n",
            "Epoch   5 Batch 9115392/15840354   train_loss = 759.877\n",
            "Epoch   5 Batch 9499392/15840354   train_loss = 1013.254\n",
            "Epoch   5 Batch 9883392/15840354   train_loss = 927.097\n",
            "Epoch   5 Batch 10267392/15840354   train_loss = 966.788\n",
            "Epoch   5 Batch 10651392/15840354   train_loss = 965.860\n",
            "Epoch   5 Batch 11035392/15840354   train_loss = 821.143\n",
            "Epoch   5 Batch 11419392/15840354   train_loss = 770.405\n",
            "Epoch   5 Batch 11803392/15840354   train_loss = 921.928\n",
            "Epoch   5 Batch 12187392/15840354   train_loss = 759.631\n",
            "Epoch   5 Batch 12571392/15840354   train_loss = 911.856\n",
            "Epoch   5 Batch 12955392/15840354   train_loss = 853.833\n",
            "Epoch   5 Batch 13339392/15840354   train_loss = 884.728\n",
            "Epoch   5 Batch 13723392/15840354   train_loss = 889.237\n",
            "Epoch   5 Batch 14107392/15840354   train_loss = 895.775\n",
            "Epoch   5 Batch 14491392/15840354   train_loss = 813.687\n",
            "Epoch   5 Batch 14875392/15840354   train_loss = 893.343\n",
            "Epoch   5 Batch 15259392/15840354   train_loss = 834.050\n",
            "Epoch   5 Batch 15643392/15840354   train_loss = 864.191\n",
            "Epoch   5 Batch 164352/3960089   test_loss = 1238.232\n",
            "Epoch   5 Batch 548352/3960089   test_loss = 1105.491\n",
            "Epoch   5 Batch 932352/3960089   test_loss = 1153.055\n",
            "Epoch   5 Batch 1316352/3960089   test_loss = 1305.691\n",
            "Epoch   5 Batch 1700352/3960089   test_loss = 1147.629\n",
            "Epoch   5 Batch 2084352/3960089   test_loss = 1191.763\n",
            "Epoch   5 Batch 2468352/3960089   test_loss = 1235.190\n",
            "Epoch   5 Batch 2852352/3960089   test_loss = 1308.098\n",
            "Epoch   5 Batch 3236352/3960089   test_loss = 1224.651\n",
            "Epoch   5 Batch 3620352/3960089   test_loss = 1165.638\n"
          ],
          "name": "stdout"
        }
      ]
    },
    {
      "cell_type": "code",
      "metadata": {
        "id": "yeha0w12uvrC",
        "colab_type": "code",
        "colab": {
          "base_uri": "https://localhost:8080/",
          "height": 265
        },
        "outputId": "f14b0fc6-2bfa-4249-b875-dc62f26746bf"
      },
      "source": [
        "plt.plot(losses['train'], label='Training loss')\n",
        "plt.legend()\n",
        "_ = plt.ylim()"
      ],
      "execution_count": 25,
      "outputs": [
        {
          "output_type": "display_data",
          "data": {
            "image/png": "[encoded data removed]",
            "text/plain": [
              "<Figure size 432x288 with 1 Axes>"
            ]
          },
          "metadata": {
            "tags": []
          }
        }
      ]
    },
    {
      "cell_type": "code",
      "metadata": {
        "id": "sgcJ_hX_-RkZ",
        "colab_type": "code",
        "colab": {
          "base_uri": "https://localhost:8080/",
          "height": 265
        },
        "outputId": "a23d5445-b675-4e3e-f241-eadb60162aa4"
      },
      "source": [
        "plt.plot(losses['test'], label='test loss')\n",
        "plt.legend()\n",
        "_ = plt.ylim()"
      ],
      "execution_count": 26,
      "outputs": [
        {
          "output_type": "display_data",
          "data": {
            "image/png": "[encoded data removed]",
            "text/plain": [
              "<Figure size 432x288 with 1 Axes>"
            ]
          },
          "metadata": {
            "tags": []
          }
        }
      ]
    },
    {
      "cell_type": "code",
      "metadata": {
        "id": "yTR0PQrg-XJ3",
        "colab_type": "code",
        "colab": {}
      },
      "source": [
        "# Save model to '/content/model.pt'\n",
        "torch.save(model.state_dict(), '/content/model.pt')"
      ],
      "execution_count": 0,
      "outputs": []
    },
    {
      "cell_type": "code",
      "metadata": {
        "id": "ulyusRHR-nyf",
        "colab_type": "code",
        "colab": {
          "base_uri": "https://localhost:8080/",
          "height": 35
        },
        "outputId": "1c86ccc8-9a3e-455c-d645-3e0decb6ecf6"
      },
      "source": [
        "# Load model from state_dict file '/content/model.pt'\n",
        "model = Verify_Assumption_Model()\n",
        "model.load_state_dict(torch.load('/content/model.pt', map_location='cpu'))"
      ],
      "execution_count": 65,
      "outputs": [
        {
          "output_type": "execute_result",
          "data": {
            "text/plain": [
              "<All keys matched successfully>"
            ]
          },
          "metadata": {
            "tags": []
          },
          "execution_count": 65
        }
      ]
    },
    {
      "cell_type": "code",
      "metadata": {
        "id": "A_rWu4Sn-zZl",
        "colab_type": "code",
        "colab": {}
      },
      "source": [
        "def get_relevant_movies(id, orginal=True, movie_num=10):\n",
        "    \n",
        "    movie_feature = []\n",
        "    movie_id = []\n",
        "    movie_num += 1 # because the most relevant movie is the same movie.\n",
        "    \n",
        "    # Get all movie vector, You can run quickly if you save the movie vector in your memory.\n",
        "    for key in genome_scores_dict.keys():\n",
        "        movie_id.append(key)\n",
        "        if orginal:     \n",
        "            norm = np.linalg.norm(genome_scores_dict[key],ord=2) \n",
        "            movie_feature.append(genome_scores_dict[key]/norm)\n",
        "        else:\n",
        "            v = model.movie_transfrom(torch.tensor(genome_scores_dict[key]).cuda()).cpu().detach().numpy()\n",
        "            norm = np.linalg.norm(v,ord=2) \n",
        "            movie_feature.append(v/norm)\n",
        "\n",
        "    movie_feature = torch.tensor(movie_feature).unsqueeze_(1).cuda()\n",
        "\n",
        "    if orginal: \n",
        "        norm = np.linalg.norm(genome_scores_dict[str(id)],ord=2)\n",
        "        in_movie = torch.tensor(genome_scores_dict[str(id)]/norm).expand(10381, 1128).unsqueeze_(2).cuda()\n",
        "    else:\n",
        "        v = model.movie_transfrom(torch.tensor(genome_scores_dict[str(id)]).cuda()).cpu().detach().numpy()\n",
        "        norm = np.linalg.norm(v,ord=2)\n",
        "        in_movie = torch.tensor(v/norm).cuda().expand(10381, 512).unsqueeze_(2)\n",
        "    \n",
        "    similarity = torch.bmm(movie_feature,in_movie).squeeze_(1).squeeze_(1).cpu().detach().numpy()\n",
        "    index = np.argpartition(similarity, -movie_num)[-movie_num:]\n",
        "    \n",
        "    if orginal: \n",
        "        print('Find relevant movies based on relevance vector from genome-scores.csv')\n",
        "    else:\n",
        "        print('Find relevant movies based on movie feature vector from training model')\n",
        "    \n",
        "    print('')\n",
        "    print('Input Movie: {}'.format(movies[movies['movieId']==id].values[0]))\n",
        "    print('')\n",
        "    print('Relevant Movie:')\n",
        "    \n",
        "    re = []\n",
        "    for i in index:\n",
        "        if movie_id[i] != str(id):\n",
        "            print('    {}'.format(movies[movies['movieId']==int(movie_id[i])].values[0]))\n",
        "            re.append(movie_id[i])\n",
        "            \n",
        "    return re"
      ],
      "execution_count": 0,
      "outputs": []
    },
    {
      "cell_type": "code",
      "metadata": {
        "id": "hT_0ursG--Ln",
        "colab_type": "code",
        "colab": {
          "base_uri": "https://localhost:8080/",
          "height": 295
        },
        "outputId": "d59b1dba-7aee-430a-84b3-fa87496db008"
      },
      "source": [
        "get_relevant_movies(2,True)\n",
        "pass"
      ],
      "execution_count": 67,
      "outputs": [
        {
          "output_type": "stream",
          "text": [
            "Find relevant movies based on relevance vector from genome-scores.csv\n",
            "\n",
            "Input Movie: [2 'Jumanji (1995)' 'Adventure|Children|Fantasy']\n",
            "\n",
            "Relevant Movie:\n",
            "    [2047 'Gnome-Mobile, The (1967)' 'Adventure|Children|Fantasy|Musical']\n",
            "    [1920 'Small Soldiers (1998)' 'Animation|Children|Fantasy|War']\n",
            "    [480 'Jurassic Park (1993)' 'Action|Adventure|Sci-Fi|Thriller']\n",
            "    [7781 'Twister (1990)' 'Comedy']\n",
            "    [455 'Free Willy (1993)' 'Adventure|Children|Drama']\n",
            "    [40851 'Zathura (2005)' 'Action|Adventure|Children|Fantasy']\n",
            "    [2429 'Mighty Joe Young (1998)' 'Action|Adventure|Drama|Fantasy|Thriller']\n",
            "    [46972 'Night at the Museum (2006)' 'Action|Comedy|Fantasy|IMAX']\n",
            "    [2054 'Honey, I Shrunk the Kids (1989)'\n",
            " 'Adventure|Children|Comedy|Fantasy|Sci-Fi']\n",
            "    [1848 'Borrowers, The (1997)' 'Adventure|Children|Comedy|Fantasy']\n"
          ],
          "name": "stdout"
        }
      ]
    }
  ]
}